{
  "nbformat": 4,
  "nbformat_minor": 0,
  "metadata": {
    "colab": {
      "provenance": [],
      "authorship_tag": "ABX9TyP1d1NIK4cepm61VKoQzj1q",
      "include_colab_link": true
    },
    "kernelspec": {
      "name": "python3",
      "display_name": "Python 3"
    },
    "language_info": {
      "name": "python"
    }
  },
  "cells": [
    {
      "cell_type": "markdown",
      "metadata": {
        "id": "view-in-github",
        "colab_type": "text"
      },
      "source": [
        "<a href=\"https://colab.research.google.com/github/esmaeilifardi/LGBMRegressor---Car-Dataset/blob/main/LGBMRegressor.ipynb\" target=\"_parent\"><img src=\"https://colab.research.google.com/assets/colab-badge.svg\" alt=\"Open In Colab\"/></a>"
      ]
    },
    {
      "cell_type": "code",
      "execution_count": null,
      "metadata": {
        "id": "o5GD0jX4prkw"
      },
      "outputs": [],
      "source": [
        "import numpy as np\n",
        "import pandas as pd\n",
        "import matplotlib.pyplot as plt\n",
        "import seaborn as sns\n",
        "data = pd.read_csv('car.csv')\n",
        "\n",
        "df = pd.DataFrame(data)"
      ]
    },
    {
      "cell_type": "code",
      "source": [
        "df.head(5)"
      ],
      "metadata": {
        "colab": {
          "base_uri": "https://localhost:8080/",
          "height": 206
        },
        "id": "wQjBWUc-rENq",
        "outputId": "2588704c-b542-496c-ce89-1915a498f1b3"
      },
      "execution_count": null,
      "outputs": [
        {
          "output_type": "execute_result",
          "data": {
            "text/plain": [
              "  Car_Name  Year  Selling_Price  Present_Price  Kms_Driven Fuel_Type  \\\n",
              "0     ritz  2014           3.35           5.59       27000    Petrol   \n",
              "1      sx4  2013           4.75           9.54       43000    Diesel   \n",
              "2     ciaz  2017           7.25           9.85        6900    Petrol   \n",
              "3  wagon r  2011           2.85           4.15        5200    Petrol   \n",
              "4    swift  2014           4.60           6.87       42450    Diesel   \n",
              "\n",
              "  Seller_Type Transmission  Owner  \n",
              "0      Dealer       Manual      0  \n",
              "1      Dealer       Manual      0  \n",
              "2      Dealer       Manual      0  \n",
              "3      Dealer       Manual      0  \n",
              "4      Dealer       Manual      0  "
            ],
            "text/html": [
              "\n",
              "  <div id=\"df-182c48b7-f8b7-46a3-b74c-af84b9a12937\">\n",
              "    <div class=\"colab-df-container\">\n",
              "      <div>\n",
              "<style scoped>\n",
              "    .dataframe tbody tr th:only-of-type {\n",
              "        vertical-align: middle;\n",
              "    }\n",
              "\n",
              "    .dataframe tbody tr th {\n",
              "        vertical-align: top;\n",
              "    }\n",
              "\n",
              "    .dataframe thead th {\n",
              "        text-align: right;\n",
              "    }\n",
              "</style>\n",
              "<table border=\"1\" class=\"dataframe\">\n",
              "  <thead>\n",
              "    <tr style=\"text-align: right;\">\n",
              "      <th></th>\n",
              "      <th>Car_Name</th>\n",
              "      <th>Year</th>\n",
              "      <th>Selling_Price</th>\n",
              "      <th>Present_Price</th>\n",
              "      <th>Kms_Driven</th>\n",
              "      <th>Fuel_Type</th>\n",
              "      <th>Seller_Type</th>\n",
              "      <th>Transmission</th>\n",
              "      <th>Owner</th>\n",
              "    </tr>\n",
              "  </thead>\n",
              "  <tbody>\n",
              "    <tr>\n",
              "      <th>0</th>\n",
              "      <td>ritz</td>\n",
              "      <td>2014</td>\n",
              "      <td>3.35</td>\n",
              "      <td>5.59</td>\n",
              "      <td>27000</td>\n",
              "      <td>Petrol</td>\n",
              "      <td>Dealer</td>\n",
              "      <td>Manual</td>\n",
              "      <td>0</td>\n",
              "    </tr>\n",
              "    <tr>\n",
              "      <th>1</th>\n",
              "      <td>sx4</td>\n",
              "      <td>2013</td>\n",
              "      <td>4.75</td>\n",
              "      <td>9.54</td>\n",
              "      <td>43000</td>\n",
              "      <td>Diesel</td>\n",
              "      <td>Dealer</td>\n",
              "      <td>Manual</td>\n",
              "      <td>0</td>\n",
              "    </tr>\n",
              "    <tr>\n",
              "      <th>2</th>\n",
              "      <td>ciaz</td>\n",
              "      <td>2017</td>\n",
              "      <td>7.25</td>\n",
              "      <td>9.85</td>\n",
              "      <td>6900</td>\n",
              "      <td>Petrol</td>\n",
              "      <td>Dealer</td>\n",
              "      <td>Manual</td>\n",
              "      <td>0</td>\n",
              "    </tr>\n",
              "    <tr>\n",
              "      <th>3</th>\n",
              "      <td>wagon r</td>\n",
              "      <td>2011</td>\n",
              "      <td>2.85</td>\n",
              "      <td>4.15</td>\n",
              "      <td>5200</td>\n",
              "      <td>Petrol</td>\n",
              "      <td>Dealer</td>\n",
              "      <td>Manual</td>\n",
              "      <td>0</td>\n",
              "    </tr>\n",
              "    <tr>\n",
              "      <th>4</th>\n",
              "      <td>swift</td>\n",
              "      <td>2014</td>\n",
              "      <td>4.60</td>\n",
              "      <td>6.87</td>\n",
              "      <td>42450</td>\n",
              "      <td>Diesel</td>\n",
              "      <td>Dealer</td>\n",
              "      <td>Manual</td>\n",
              "      <td>0</td>\n",
              "    </tr>\n",
              "  </tbody>\n",
              "</table>\n",
              "</div>\n",
              "      <button class=\"colab-df-convert\" onclick=\"convertToInteractive('df-182c48b7-f8b7-46a3-b74c-af84b9a12937')\"\n",
              "              title=\"Convert this dataframe to an interactive table.\"\n",
              "              style=\"display:none;\">\n",
              "        \n",
              "  <svg xmlns=\"http://www.w3.org/2000/svg\" height=\"24px\"viewBox=\"0 0 24 24\"\n",
              "       width=\"24px\">\n",
              "    <path d=\"M0 0h24v24H0V0z\" fill=\"none\"/>\n",
              "    <path d=\"M18.56 5.44l.94 2.06.94-2.06 2.06-.94-2.06-.94-.94-2.06-.94 2.06-2.06.94zm-11 1L8.5 8.5l.94-2.06 2.06-.94-2.06-.94L8.5 2.5l-.94 2.06-2.06.94zm10 10l.94 2.06.94-2.06 2.06-.94-2.06-.94-.94-2.06-.94 2.06-2.06.94z\"/><path d=\"M17.41 7.96l-1.37-1.37c-.4-.4-.92-.59-1.43-.59-.52 0-1.04.2-1.43.59L10.3 9.45l-7.72 7.72c-.78.78-.78 2.05 0 2.83L4 21.41c.39.39.9.59 1.41.59.51 0 1.02-.2 1.41-.59l7.78-7.78 2.81-2.81c.8-.78.8-2.07 0-2.86zM5.41 20L4 18.59l7.72-7.72 1.47 1.35L5.41 20z\"/>\n",
              "  </svg>\n",
              "      </button>\n",
              "      \n",
              "  <style>\n",
              "    .colab-df-container {\n",
              "      display:flex;\n",
              "      flex-wrap:wrap;\n",
              "      gap: 12px;\n",
              "    }\n",
              "\n",
              "    .colab-df-convert {\n",
              "      background-color: #E8F0FE;\n",
              "      border: none;\n",
              "      border-radius: 50%;\n",
              "      cursor: pointer;\n",
              "      display: none;\n",
              "      fill: #1967D2;\n",
              "      height: 32px;\n",
              "      padding: 0 0 0 0;\n",
              "      width: 32px;\n",
              "    }\n",
              "\n",
              "    .colab-df-convert:hover {\n",
              "      background-color: #E2EBFA;\n",
              "      box-shadow: 0px 1px 2px rgba(60, 64, 67, 0.3), 0px 1px 3px 1px rgba(60, 64, 67, 0.15);\n",
              "      fill: #174EA6;\n",
              "    }\n",
              "\n",
              "    [theme=dark] .colab-df-convert {\n",
              "      background-color: #3B4455;\n",
              "      fill: #D2E3FC;\n",
              "    }\n",
              "\n",
              "    [theme=dark] .colab-df-convert:hover {\n",
              "      background-color: #434B5C;\n",
              "      box-shadow: 0px 1px 3px 1px rgba(0, 0, 0, 0.15);\n",
              "      filter: drop-shadow(0px 1px 2px rgba(0, 0, 0, 0.3));\n",
              "      fill: #FFFFFF;\n",
              "    }\n",
              "  </style>\n",
              "\n",
              "      <script>\n",
              "        const buttonEl =\n",
              "          document.querySelector('#df-182c48b7-f8b7-46a3-b74c-af84b9a12937 button.colab-df-convert');\n",
              "        buttonEl.style.display =\n",
              "          google.colab.kernel.accessAllowed ? 'block' : 'none';\n",
              "\n",
              "        async function convertToInteractive(key) {\n",
              "          const element = document.querySelector('#df-182c48b7-f8b7-46a3-b74c-af84b9a12937');\n",
              "          const dataTable =\n",
              "            await google.colab.kernel.invokeFunction('convertToInteractive',\n",
              "                                                     [key], {});\n",
              "          if (!dataTable) return;\n",
              "\n",
              "          const docLinkHtml = 'Like what you see? Visit the ' +\n",
              "            '<a target=\"_blank\" href=https://colab.research.google.com/notebooks/data_table.ipynb>data table notebook</a>'\n",
              "            + ' to learn more about interactive tables.';\n",
              "          element.innerHTML = '';\n",
              "          dataTable['output_type'] = 'display_data';\n",
              "          await google.colab.output.renderOutput(dataTable, element);\n",
              "          const docLink = document.createElement('div');\n",
              "          docLink.innerHTML = docLinkHtml;\n",
              "          element.appendChild(docLink);\n",
              "        }\n",
              "      </script>\n",
              "    </div>\n",
              "  </div>\n",
              "  "
            ]
          },
          "metadata": {},
          "execution_count": 2
        }
      ]
    },
    {
      "cell_type": "code",
      "source": [
        "df.isnull().sum()"
      ],
      "metadata": {
        "colab": {
          "base_uri": "https://localhost:8080/"
        },
        "id": "pvVO1kLUrR-F",
        "outputId": "a12b75d5-50a1-4abb-fbea-c1a3c9c9e8a1"
      },
      "execution_count": null,
      "outputs": [
        {
          "output_type": "execute_result",
          "data": {
            "text/plain": [
              "Car_Name         0\n",
              "Year             0\n",
              "Selling_Price    0\n",
              "Present_Price    0\n",
              "Kms_Driven       0\n",
              "Fuel_Type        0\n",
              "Seller_Type      0\n",
              "Transmission     0\n",
              "Owner            0\n",
              "dtype: int64"
            ]
          },
          "metadata": {},
          "execution_count": 3
        }
      ]
    },
    {
      "cell_type": "code",
      "source": [
        "df['Transmission'].nunique()"
      ],
      "metadata": {
        "colab": {
          "base_uri": "https://localhost:8080/"
        },
        "id": "b8iIiAV8rX9g",
        "outputId": "603c8266-823d-4159-ff44-a7d42f0658af"
      },
      "execution_count": null,
      "outputs": [
        {
          "output_type": "execute_result",
          "data": {
            "text/plain": [
              "2"
            ]
          },
          "metadata": {},
          "execution_count": 4
        }
      ]
    },
    {
      "cell_type": "code",
      "source": [
        "df['Transmission'].unique()"
      ],
      "metadata": {
        "colab": {
          "base_uri": "https://localhost:8080/"
        },
        "id": "m-I1qULbsX_9",
        "outputId": "91c770df-6959-4819-85d1-b8f878e86aad"
      },
      "execution_count": null,
      "outputs": [
        {
          "output_type": "execute_result",
          "data": {
            "text/plain": [
              "array(['Manual', 'Automatic'], dtype=object)"
            ]
          },
          "metadata": {},
          "execution_count": 5
        }
      ]
    },
    {
      "cell_type": "code",
      "source": [
        "sns.countplot(data=df, x='Transmission')"
      ],
      "metadata": {
        "colab": {
          "base_uri": "https://localhost:8080/",
          "height": 296
        },
        "id": "6V-USylesgLe",
        "outputId": "9f4eb999-c9fa-47c2-84ce-25c26529fde6"
      },
      "execution_count": null,
      "outputs": [
        {
          "output_type": "execute_result",
          "data": {
            "text/plain": [
              "<matplotlib.axes._subplots.AxesSubplot at 0x7f3d1b6abbe0>"
            ]
          },
          "metadata": {},
          "execution_count": 6
        },
        {
          "output_type": "display_data",
          "data": {
            "text/plain": [
              "<Figure size 432x288 with 1 Axes>"
            ],
            "image/png": "[encoded data removed]"
          },
          "metadata": {
            "needs_background": "light"
          }
        }
      ]
    },
    {
      "cell_type": "code",
      "source": [
        "df.describe().transpose().reset_index()"
      ],
      "metadata": {
        "colab": {
          "base_uri": "https://localhost:8080/",
          "height": 206
        },
        "id": "JjYOEr-d1ycu",
        "outputId": "08d2017b-22cc-4a29-85e5-52f76cc7c14a"
      },
      "execution_count": null,
      "outputs": [
        {
          "output_type": "execute_result",
          "data": {
            "text/plain": [
              "           index  count          mean           std      min      25%  \\\n",
              "0           Year  301.0   2013.627907      2.891554  2003.00   2012.0   \n",
              "1  Selling_Price  301.0      4.661296      5.082812     0.10      0.9   \n",
              "2  Present_Price  301.0      7.628472      8.644115     0.32      1.2   \n",
              "3     Kms_Driven  301.0  36947.205980  38886.883882   500.00  15000.0   \n",
              "4          Owner  301.0      0.043189      0.247915     0.00      0.0   \n",
              "\n",
              "       50%      75%       max  \n",
              "0   2014.0   2016.0    2018.0  \n",
              "1      3.6      6.0      35.0  \n",
              "2      6.4      9.9      92.6  \n",
              "3  32000.0  48767.0  500000.0  \n",
              "4      0.0      0.0       3.0  "
            ],
            "text/html": [
              "\n",
              "  <div id=\"df-be8d9f6c-5390-42f8-8d0f-40cf7b0b08c3\">\n",
              "    <div class=\"colab-df-container\">\n",
              "      <div>\n",
              "<style scoped>\n",
              "    .dataframe tbody tr th:only-of-type {\n",
              "        vertical-align: middle;\n",
              "    }\n",
              "\n",
              "    .dataframe tbody tr th {\n",
              "        vertical-align: top;\n",
              "    }\n",
              "\n",
              "    .dataframe thead th {\n",
              "        text-align: right;\n",
              "    }\n",
              "</style>\n",
              "<table border=\"1\" class=\"dataframe\">\n",
              "  <thead>\n",
              "    <tr style=\"text-align: right;\">\n",
              "      <th></th>\n",
              "      <th>index</th>\n",
              "      <th>count</th>\n",
              "      <th>mean</th>\n",
              "      <th>std</th>\n",
              "      <th>min</th>\n",
              "      <th>25%</th>\n",
              "      <th>50%</th>\n",
              "      <th>75%</th>\n",
              "      <th>max</th>\n",
              "    </tr>\n",
              "  </thead>\n",
              "  <tbody>\n",
              "    <tr>\n",
              "      <th>0</th>\n",
              "      <td>Year</td>\n",
              "      <td>301.0</td>\n",
              "      <td>2013.627907</td>\n",
              "      <td>2.891554</td>\n",
              "      <td>2003.00</td>\n",
              "      <td>2012.0</td>\n",
              "      <td>2014.0</td>\n",
              "      <td>2016.0</td>\n",
              "      <td>2018.0</td>\n",
              "    </tr>\n",
              "    <tr>\n",
              "      <th>1</th>\n",
              "      <td>Selling_Price</td>\n",
              "      <td>301.0</td>\n",
              "      <td>4.661296</td>\n",
              "      <td>5.082812</td>\n",
              "      <td>0.10</td>\n",
              "      <td>0.9</td>\n",
              "      <td>3.6</td>\n",
              "      <td>6.0</td>\n",
              "      <td>35.0</td>\n",
              "    </tr>\n",
              "    <tr>\n",
              "      <th>2</th>\n",
              "      <td>Present_Price</td>\n",
              "      <td>301.0</td>\n",
              "      <td>7.628472</td>\n",
              "      <td>8.644115</td>\n",
              "      <td>0.32</td>\n",
              "      <td>1.2</td>\n",
              "      <td>6.4</td>\n",
              "      <td>9.9</td>\n",
              "      <td>92.6</td>\n",
              "    </tr>\n",
              "    <tr>\n",
              "      <th>3</th>\n",
              "      <td>Kms_Driven</td>\n",
              "      <td>301.0</td>\n",
              "      <td>36947.205980</td>\n",
              "      <td>38886.883882</td>\n",
              "      <td>500.00</td>\n",
              "      <td>15000.0</td>\n",
              "      <td>32000.0</td>\n",
              "      <td>48767.0</td>\n",
              "      <td>500000.0</td>\n",
              "    </tr>\n",
              "    <tr>\n",
              "      <th>4</th>\n",
              "      <td>Owner</td>\n",
              "      <td>301.0</td>\n",
              "      <td>0.043189</td>\n",
              "      <td>0.247915</td>\n",
              "      <td>0.00</td>\n",
              "      <td>0.0</td>\n",
              "      <td>0.0</td>\n",
              "      <td>0.0</td>\n",
              "      <td>3.0</td>\n",
              "    </tr>\n",
              "  </tbody>\n",
              "</table>\n",
              "</div>\n",
              "      <button class=\"colab-df-convert\" onclick=\"convertToInteractive('df-be8d9f6c-5390-42f8-8d0f-40cf7b0b08c3')\"\n",
              "              title=\"Convert this dataframe to an interactive table.\"\n",
              "              style=\"display:none;\">\n",
              "        \n",
              "  <svg xmlns=\"http://www.w3.org/2000/svg\" height=\"24px\"viewBox=\"0 0 24 24\"\n",
              "       width=\"24px\">\n",
              "    <path d=\"M0 0h24v24H0V0z\" fill=\"none\"/>\n",
              "    <path d=\"M18.56 5.44l.94 2.06.94-2.06 2.06-.94-2.06-.94-.94-2.06-.94 2.06-2.06.94zm-11 1L8.5 8.5l.94-2.06 2.06-.94-2.06-.94L8.5 2.5l-.94 2.06-2.06.94zm10 10l.94 2.06.94-2.06 2.06-.94-2.06-.94-.94-2.06-.94 2.06-2.06.94z\"/><path d=\"M17.41 7.96l-1.37-1.37c-.4-.4-.92-.59-1.43-.59-.52 0-1.04.2-1.43.59L10.3 9.45l-7.72 7.72c-.78.78-.78 2.05 0 2.83L4 21.41c.39.39.9.59 1.41.59.51 0 1.02-.2 1.41-.59l7.78-7.78 2.81-2.81c.8-.78.8-2.07 0-2.86zM5.41 20L4 18.59l7.72-7.72 1.47 1.35L5.41 20z\"/>\n",
              "  </svg>\n",
              "      </button>\n",
              "      \n",
              "  <style>\n",
              "    .colab-df-container {\n",
              "      display:flex;\n",
              "      flex-wrap:wrap;\n",
              "      gap: 12px;\n",
              "    }\n",
              "\n",
              "    .colab-df-convert {\n",
              "      background-color: #E8F0FE;\n",
              "      border: none;\n",
              "      border-radius: 50%;\n",
              "      cursor: pointer;\n",
              "      display: none;\n",
              "      fill: #1967D2;\n",
              "      height: 32px;\n",
              "      padding: 0 0 0 0;\n",
              "      width: 32px;\n",
              "    }\n",
              "\n",
              "    .colab-df-convert:hover {\n",
              "      background-color: #E2EBFA;\n",
              "      box-shadow: 0px 1px 2px rgba(60, 64, 67, 0.3), 0px 1px 3px 1px rgba(60, 64, 67, 0.15);\n",
              "      fill: #174EA6;\n",
              "    }\n",
              "\n",
              "    [theme=dark] .colab-df-convert {\n",
              "      background-color: #3B4455;\n",
              "      fill: #D2E3FC;\n",
              "    }\n",
              "\n",
              "    [theme=dark] .colab-df-convert:hover {\n",
              "      background-color: #434B5C;\n",
              "      box-shadow: 0px 1px 3px 1px rgba(0, 0, 0, 0.15);\n",
              "      filter: drop-shadow(0px 1px 2px rgba(0, 0, 0, 0.3));\n",
              "      fill: #FFFFFF;\n",
              "    }\n",
              "  </style>\n",
              "\n",
              "      <script>\n",
              "        const buttonEl =\n",
              "          document.querySelector('#df-be8d9f6c-5390-42f8-8d0f-40cf7b0b08c3 button.colab-df-convert');\n",
              "        buttonEl.style.display =\n",
              "          google.colab.kernel.accessAllowed ? 'block' : 'none';\n",
              "\n",
              "        async function convertToInteractive(key) {\n",
              "          const element = document.querySelector('#df-be8d9f6c-5390-42f8-8d0f-40cf7b0b08c3');\n",
              "          const dataTable =\n",
              "            await google.colab.kernel.invokeFunction('convertToInteractive',\n",
              "                                                     [key], {});\n",
              "          if (!dataTable) return;\n",
              "\n",
              "          const docLinkHtml = 'Like what you see? Visit the ' +\n",
              "            '<a target=\"_blank\" href=https://colab.research.google.com/notebooks/data_table.ipynb>data table notebook</a>'\n",
              "            + ' to learn more about interactive tables.';\n",
              "          element.innerHTML = '';\n",
              "          dataTable['output_type'] = 'display_data';\n",
              "          await google.colab.output.renderOutput(dataTable, element);\n",
              "          const docLink = document.createElement('div');\n",
              "          docLink.innerHTML = docLinkHtml;\n",
              "          element.appendChild(docLink);\n",
              "        }\n",
              "      </script>\n",
              "    </div>\n",
              "  </div>\n",
              "  "
            ]
          },
          "metadata": {},
          "execution_count": 7
        }
      ]
    },
    {
      "cell_type": "code",
      "source": [
        "des = df.describe().transpose().reset_index().sort_values('mean')"
      ],
      "metadata": {
        "id": "gFbjLc4Os-i1"
      },
      "execution_count": null,
      "outputs": []
    },
    {
      "cell_type": "code",
      "source": [
        "'''\n",
        "plt.figure(figsize=(10,5), dpi=100)\n",
        "sns.barplot(data=des, x='index', y='mean')\n",
        "plt.xticks(rotation=90) #rotate x labels\n",
        "'''"
      ],
      "metadata": {
        "colab": {
          "base_uri": "https://localhost:8080/",
          "height": 36
        },
        "id": "neXeZsNE2F7d",
        "outputId": "bab455f5-70e9-4c56-c603-df8e80f32458"
      },
      "execution_count": null,
      "outputs": [
        {
          "output_type": "execute_result",
          "data": {
            "text/plain": [
              "\"\\nplt.figure(figsize=(10,5), dpi=100)\\nsns.barplot(data=des, x='index', y='mean')\\nplt.xticks(rotation=90) #rotate x labels\\n\""
            ],
            "application/vnd.google.colaboratory.intrinsic+json": {
              "type": "string"
            }
          },
          "metadata": {},
          "execution_count": 9
        }
      ]
    },
    {
      "cell_type": "code",
      "source": [
        "df['current_year']=2022"
      ],
      "metadata": {
        "id": "mn7ieOb32dk4"
      },
      "execution_count": null,
      "outputs": []
    },
    {
      "cell_type": "code",
      "source": [
        "df.head(2)"
      ],
      "metadata": {
        "colab": {
          "base_uri": "https://localhost:8080/",
          "height": 112
        },
        "id": "Ldveuz7G3h-y",
        "outputId": "ceb1e01e-0a6b-4387-eb28-88a0587e93a8"
      },
      "execution_count": null,
      "outputs": [
        {
          "output_type": "execute_result",
          "data": {
            "text/plain": [
              "  Car_Name  Year  Selling_Price  Present_Price  Kms_Driven Fuel_Type  \\\n",
              "0     ritz  2014           3.35           5.59       27000    Petrol   \n",
              "1      sx4  2013           4.75           9.54       43000    Diesel   \n",
              "\n",
              "  Seller_Type Transmission  Owner  current_year  \n",
              "0      Dealer       Manual      0          2022  \n",
              "1      Dealer       Manual      0          2022  "
            ],
            "text/html": [
              "\n",
              "  <div id=\"df-fbb698b5-ea78-422d-ab9e-22da3dc5248d\">\n",
              "    <div class=\"colab-df-container\">\n",
              "      <div>\n",
              "<style scoped>\n",
              "    .dataframe tbody tr th:only-of-type {\n",
              "        vertical-align: middle;\n",
              "    }\n",
              "\n",
              "    .dataframe tbody tr th {\n",
              "        vertical-align: top;\n",
              "    }\n",
              "\n",
              "    .dataframe thead th {\n",
              "        text-align: right;\n",
              "    }\n",
              "</style>\n",
              "<table border=\"1\" class=\"dataframe\">\n",
              "  <thead>\n",
              "    <tr style=\"text-align: right;\">\n",
              "      <th></th>\n",
              "      <th>Car_Name</th>\n",
              "      <th>Year</th>\n",
              "      <th>Selling_Price</th>\n",
              "      <th>Present_Price</th>\n",
              "      <th>Kms_Driven</th>\n",
              "      <th>Fuel_Type</th>\n",
              "      <th>Seller_Type</th>\n",
              "      <th>Transmission</th>\n",
              "      <th>Owner</th>\n",
              "      <th>current_year</th>\n",
              "    </tr>\n",
              "  </thead>\n",
              "  <tbody>\n",
              "    <tr>\n",
              "      <th>0</th>\n",
              "      <td>ritz</td>\n",
              "      <td>2014</td>\n",
              "      <td>3.35</td>\n",
              "      <td>5.59</td>\n",
              "      <td>27000</td>\n",
              "      <td>Petrol</td>\n",
              "      <td>Dealer</td>\n",
              "      <td>Manual</td>\n",
              "      <td>0</td>\n",
              "      <td>2022</td>\n",
              "    </tr>\n",
              "    <tr>\n",
              "      <th>1</th>\n",
              "      <td>sx4</td>\n",
              "      <td>2013</td>\n",
              "      <td>4.75</td>\n",
              "      <td>9.54</td>\n",
              "      <td>43000</td>\n",
              "      <td>Diesel</td>\n",
              "      <td>Dealer</td>\n",
              "      <td>Manual</td>\n",
              "      <td>0</td>\n",
              "      <td>2022</td>\n",
              "    </tr>\n",
              "  </tbody>\n",
              "</table>\n",
              "</div>\n",
              "      <button class=\"colab-df-convert\" onclick=\"convertToInteractive('df-fbb698b5-ea78-422d-ab9e-22da3dc5248d')\"\n",
              "              title=\"Convert this dataframe to an interactive table.\"\n",
              "              style=\"display:none;\">\n",
              "        \n",
              "  <svg xmlns=\"http://www.w3.org/2000/svg\" height=\"24px\"viewBox=\"0 0 24 24\"\n",
              "       width=\"24px\">\n",
              "    <path d=\"M0 0h24v24H0V0z\" fill=\"none\"/>\n",
              "    <path d=\"M18.56 5.44l.94 2.06.94-2.06 2.06-.94-2.06-.94-.94-2.06-.94 2.06-2.06.94zm-11 1L8.5 8.5l.94-2.06 2.06-.94-2.06-.94L8.5 2.5l-.94 2.06-2.06.94zm10 10l.94 2.06.94-2.06 2.06-.94-2.06-.94-.94-2.06-.94 2.06-2.06.94z\"/><path d=\"M17.41 7.96l-1.37-1.37c-.4-.4-.92-.59-1.43-.59-.52 0-1.04.2-1.43.59L10.3 9.45l-7.72 7.72c-.78.78-.78 2.05 0 2.83L4 21.41c.39.39.9.59 1.41.59.51 0 1.02-.2 1.41-.59l7.78-7.78 2.81-2.81c.8-.78.8-2.07 0-2.86zM5.41 20L4 18.59l7.72-7.72 1.47 1.35L5.41 20z\"/>\n",
              "  </svg>\n",
              "      </button>\n",
              "      \n",
              "  <style>\n",
              "    .colab-df-container {\n",
              "      display:flex;\n",
              "      flex-wrap:wrap;\n",
              "      gap: 12px;\n",
              "    }\n",
              "\n",
              "    .colab-df-convert {\n",
              "      background-color: #E8F0FE;\n",
              "      border: none;\n",
              "      border-radius: 50%;\n",
              "      cursor: pointer;\n",
              "      display: none;\n",
              "      fill: #1967D2;\n",
              "      height: 32px;\n",
              "      padding: 0 0 0 0;\n",
              "      width: 32px;\n",
              "    }\n",
              "\n",
              "    .colab-df-convert:hover {\n",
              "      background-color: #E2EBFA;\n",
              "      box-shadow: 0px 1px 2px rgba(60, 64, 67, 0.3), 0px 1px 3px 1px rgba(60, 64, 67, 0.15);\n",
              "      fill: #174EA6;\n",
              "    }\n",
              "\n",
              "    [theme=dark] .colab-df-convert {\n",
              "      background-color: #3B4455;\n",
              "      fill: #D2E3FC;\n",
              "    }\n",
              "\n",
              "    [theme=dark] .colab-df-convert:hover {\n",
              "      background-color: #434B5C;\n",
              "      box-shadow: 0px 1px 3px 1px rgba(0, 0, 0, 0.15);\n",
              "      filter: drop-shadow(0px 1px 2px rgba(0, 0, 0, 0.3));\n",
              "      fill: #FFFFFF;\n",
              "    }\n",
              "  </style>\n",
              "\n",
              "      <script>\n",
              "        const buttonEl =\n",
              "          document.querySelector('#df-fbb698b5-ea78-422d-ab9e-22da3dc5248d button.colab-df-convert');\n",
              "        buttonEl.style.display =\n",
              "          google.colab.kernel.accessAllowed ? 'block' : 'none';\n",
              "\n",
              "        async function convertToInteractive(key) {\n",
              "          const element = document.querySelector('#df-fbb698b5-ea78-422d-ab9e-22da3dc5248d');\n",
              "          const dataTable =\n",
              "            await google.colab.kernel.invokeFunction('convertToInteractive',\n",
              "                                                     [key], {});\n",
              "          if (!dataTable) return;\n",
              "\n",
              "          const docLinkHtml = 'Like what you see? Visit the ' +\n",
              "            '<a target=\"_blank\" href=https://colab.research.google.com/notebooks/data_table.ipynb>data table notebook</a>'\n",
              "            + ' to learn more about interactive tables.';\n",
              "          element.innerHTML = '';\n",
              "          dataTable['output_type'] = 'display_data';\n",
              "          await google.colab.output.renderOutput(dataTable, element);\n",
              "          const docLink = document.createElement('div');\n",
              "          docLink.innerHTML = docLinkHtml;\n",
              "          element.appendChild(docLink);\n",
              "        }\n",
              "      </script>\n",
              "    </div>\n",
              "  </div>\n",
              "  "
            ]
          },
          "metadata": {},
          "execution_count": 11
        }
      ]
    },
    {
      "cell_type": "code",
      "source": [
        "df['age'] = df['current_year']-df['Year']"
      ],
      "metadata": {
        "id": "e5i99BJQ3kAg"
      },
      "execution_count": null,
      "outputs": []
    },
    {
      "cell_type": "code",
      "source": [
        "df.drop('current_year', axis=1, inplace=True)"
      ],
      "metadata": {
        "id": "0kiTyfse4JVm"
      },
      "execution_count": null,
      "outputs": []
    },
    {
      "cell_type": "code",
      "source": [
        "df.drop('Year', axis=1, inplace=True)"
      ],
      "metadata": {
        "id": "f37mM9Xv4WSA"
      },
      "execution_count": null,
      "outputs": []
    },
    {
      "cell_type": "code",
      "source": [
        "df = pd.get_dummies(df, drop_first=True)"
      ],
      "metadata": {
        "id": "4uC72COh4e1x"
      },
      "execution_count": null,
      "outputs": []
    },
    {
      "cell_type": "code",
      "source": [
        "X = df.drop('Selling_Price', axis=1)\n",
        "y = df['Selling_Price']"
      ],
      "metadata": {
        "id": "lW99d5Mc5Nfd"
      },
      "execution_count": null,
      "outputs": []
    },
    {
      "cell_type": "code",
      "source": [
        "df.corr()"
      ],
      "metadata": {
        "colab": {
          "base_uri": "https://localhost:8080/",
          "height": 522
        },
        "id": "o3fGCAfu6e5A",
        "outputId": "0705c119-55a9-44d6-8044-90c6883b58ca"
      },
      "execution_count": null,
      "outputs": [
        {
          "output_type": "execute_result",
          "data": {
            "text/plain": [
              "                        Selling_Price  Present_Price  Kms_Driven     Owner  \\\n",
              "Selling_Price                1.000000       0.878983    0.029187 -0.088344   \n",
              "Present_Price                0.878983       1.000000    0.203647  0.008057   \n",
              "Kms_Driven                   0.029187       0.203647    1.000000  0.089216   \n",
              "Owner                       -0.088344       0.008057    0.089216  1.000000   \n",
              "age                         -0.236141       0.047584    0.524342  0.182104   \n",
              "...                               ...            ...         ...       ...   \n",
              "Car_Name_xcent               0.006038      -0.005796   -0.024550  0.117621   \n",
              "Fuel_Type_Diesel             0.552339       0.473306    0.172515 -0.053469   \n",
              "Fuel_Type_Petrol            -0.540571      -0.465244   -0.172874  0.055687   \n",
              "Seller_Type_Individual      -0.550724      -0.512030   -0.101419  0.124269   \n",
              "Transmission_Manual         -0.367128      -0.348715   -0.162510 -0.050316   \n",
              "\n",
              "                             age  Car_Name_Activa 3g  Car_Name_Activa 4g  \\\n",
              "Selling_Price          -0.236141           -0.070132           -0.048484   \n",
              "Present_Price           0.047584           -0.067274           -0.047624   \n",
              "Kms_Driven              0.524342            0.449361           -0.053013   \n",
              "Owner                   0.182104           -0.014272           -0.010075   \n",
              "age                     1.000000            0.046121           -0.067442   \n",
              "...                          ...                 ...                 ...   \n",
              "Car_Name_xcent         -0.059276           -0.008206           -0.005793   \n",
              "Fuel_Type_Diesel       -0.064315           -0.040808           -0.028808   \n",
              "Fuel_Type_Petrol        0.059959            0.041656            0.029406   \n",
              "Seller_Type_Individual  0.039896            0.110929            0.078308   \n",
              "Transmission_Manual    -0.000394           -0.208915           -0.147479   \n",
              "\n",
              "                        Car_Name_Bajaj  ct 100  Car_Name_Bajaj Avenger 150  \\\n",
              "Selling_Price                        -0.050987                   -0.044502   \n",
              "Present_Price                        -0.048895                   -0.045684   \n",
              "Kms_Driven                           -0.002896                   -0.044536   \n",
              "Owner                                -0.010075                   -0.010075   \n",
              "age                                  -0.027442                   -0.047442   \n",
              "...                                        ...                         ...   \n",
              "Car_Name_xcent                       -0.005793                   -0.005793   \n",
              "Fuel_Type_Diesel                     -0.028808                   -0.028808   \n",
              "Fuel_Type_Petrol                      0.029406                    0.029406   \n",
              "Seller_Type_Individual                0.078308                    0.078308   \n",
              "Transmission_Manual                   0.022602                    0.022602   \n",
              "\n",
              "                        Car_Name_Bajaj Avenger 150 street  ...  \\\n",
              "Selling_Price                                   -0.046209  ...   \n",
              "Present_Price                                   -0.045684  ...   \n",
              "Kms_Driven                                      -0.025203  ...   \n",
              "Owner                                           -0.010075  ...   \n",
              "age                                             -0.047442  ...   \n",
              "...                                                   ...  ...   \n",
              "Car_Name_xcent                                  -0.005793  ...   \n",
              "Fuel_Type_Diesel                                -0.028808  ...   \n",
              "Fuel_Type_Petrol                                 0.029406  ...   \n",
              "Seller_Type_Individual                           0.078308  ...   \n",
              "Transmission_Manual                              0.022602  ...   \n",
              "\n",
              "                        Car_Name_swift  Car_Name_sx4  Car_Name_verna  \\\n",
              "Selling_Price                -0.003107     -0.042241        0.062962   \n",
              "Present_Price                -0.019375      0.007242        0.045339   \n",
              "Kms_Driven                   -0.008000      0.050668        0.032997   \n",
              "Owner                        -0.022680     -0.024886       -0.038541   \n",
              "age                          -0.007748      0.212166        0.004321   \n",
              "...                                ...           ...             ...   \n",
              "Car_Name_xcent               -0.013040     -0.014309       -0.022160   \n",
              "Fuel_Type_Diesel              0.065282     -0.011662        0.126733   \n",
              "Fuel_Type_Petrol             -0.062353     -0.044910       -0.121563   \n",
              "Seller_Type_Individual       -0.041403     -0.105148       -0.162839   \n",
              "Transmission_Manual           0.050880     -0.014190        0.039989   \n",
              "\n",
              "                        Car_Name_vitara brezza  Car_Name_wagon r  \\\n",
              "Selling_Price                         0.052209         -0.049143   \n",
              "Present_Price                         0.014729         -0.042744   \n",
              "Kms_Driven                           -0.051867          0.011053   \n",
              "Owner                                -0.010075         -0.020251   \n",
              "age                                  -0.087442          0.095596   \n",
              "...                                        ...               ...   \n",
              "Car_Name_xcent                       -0.005793         -0.011644   \n",
              "Fuel_Type_Diesel                      0.115710         -0.057905   \n",
              "Fuel_Type_Petrol                     -0.113355         -0.012632   \n",
              "Seller_Type_Individual               -0.042567         -0.085563   \n",
              "Transmission_Manual                   0.022602          0.045432   \n",
              "\n",
              "                        Car_Name_xcent  Fuel_Type_Diesel  Fuel_Type_Petrol  \\\n",
              "Selling_Price                 0.006038          0.552339         -0.540571   \n",
              "Present_Price                -0.005796          0.473306         -0.465244   \n",
              "Kms_Driven                   -0.024550          0.172515         -0.172874   \n",
              "Owner                         0.117621         -0.053469          0.055687   \n",
              "age                          -0.059276         -0.064315          0.059959   \n",
              "...                                ...               ...               ...   \n",
              "Car_Name_xcent                1.000000         -0.050063          0.051103   \n",
              "Fuel_Type_Diesel             -0.050063          1.000000         -0.979648   \n",
              "Fuel_Type_Petrol              0.051103         -0.979648          1.000000   \n",
              "Seller_Type_Individual       -0.073976         -0.350467          0.358321   \n",
              "Transmission_Manual           0.039279         -0.098643          0.091013   \n",
              "\n",
              "                        Seller_Type_Individual  Transmission_Manual  \n",
              "Selling_Price                        -0.550724            -0.367128  \n",
              "Present_Price                        -0.512030            -0.348715  \n",
              "Kms_Driven                           -0.101419            -0.162510  \n",
              "Owner                                 0.124269            -0.050316  \n",
              "age                                   0.039896            -0.000394  \n",
              "...                                        ...                  ...  \n",
              "Car_Name_xcent                       -0.073976             0.039279  \n",
              "Fuel_Type_Diesel                     -0.350467            -0.098643  \n",
              "Fuel_Type_Petrol                      0.358321             0.091013  \n",
              "Seller_Type_Individual                1.000000             0.063240  \n",
              "Transmission_Manual                   0.063240             1.000000  \n",
              "\n",
              "[106 rows x 106 columns]"
            ],
            "text/html": [
              "\n",
              "  <div id=\"df-13daf0e0-21ba-4102-a37f-4463ffda146b\">\n",
              "    <div class=\"colab-df-container\">\n",
              "      <div>\n",
              "<style scoped>\n",
              "    .dataframe tbody tr th:only-of-type {\n",
              "        vertical-align: middle;\n",
              "    }\n",
              "\n",
              "    .dataframe tbody tr th {\n",
              "        vertical-align: top;\n",
              "    }\n",
              "\n",
              "    .dataframe thead th {\n",
              "        text-align: right;\n",
              "    }\n",
              "</style>\n",
              "<table border=\"1\" class=\"dataframe\">\n",
              "  <thead>\n",
              "    <tr style=\"text-align: right;\">\n",
              "      <th></th>\n",
              "      <th>Selling_Price</th>\n",
              "      <th>Present_Price</th>\n",
              "      <th>Kms_Driven</th>\n",
              "      <th>Owner</th>\n",
              "      <th>age</th>\n",
              "      <th>Car_Name_Activa 3g</th>\n",
              "      <th>Car_Name_Activa 4g</th>\n",
              "      <th>Car_Name_Bajaj  ct 100</th>\n",
              "      <th>Car_Name_Bajaj Avenger 150</th>\n",
              "      <th>Car_Name_Bajaj Avenger 150 street</th>\n",
              "      <th>...</th>\n",
              "      <th>Car_Name_swift</th>\n",
              "      <th>Car_Name_sx4</th>\n",
              "      <th>Car_Name_verna</th>\n",
              "      <th>Car_Name_vitara brezza</th>\n",
              "      <th>Car_Name_wagon r</th>\n",
              "      <th>Car_Name_xcent</th>\n",
              "      <th>Fuel_Type_Diesel</th>\n",
              "      <th>Fuel_Type_Petrol</th>\n",
              "      <th>Seller_Type_Individual</th>\n",
              "      <th>Transmission_Manual</th>\n",
              "    </tr>\n",
              "  </thead>\n",
              "  <tbody>\n",
              "    <tr>\n",
              "      <th>Selling_Price</th>\n",
              "      <td>1.000000</td>\n",
              "      <td>0.878983</td>\n",
              "      <td>0.029187</td>\n",
              "      <td>-0.088344</td>\n",
              "      <td>-0.236141</td>\n",
              "      <td>-0.070132</td>\n",
              "      <td>-0.048484</td>\n",
              "      <td>-0.050987</td>\n",
              "      <td>-0.044502</td>\n",
              "      <td>-0.046209</td>\n",
              "      <td>...</td>\n",
              "      <td>-0.003107</td>\n",
              "      <td>-0.042241</td>\n",
              "      <td>0.062962</td>\n",
              "      <td>0.052209</td>\n",
              "      <td>-0.049143</td>\n",
              "      <td>0.006038</td>\n",
              "      <td>0.552339</td>\n",
              "      <td>-0.540571</td>\n",
              "      <td>-0.550724</td>\n",
              "      <td>-0.367128</td>\n",
              "    </tr>\n",
              "    <tr>\n",
              "      <th>Present_Price</th>\n",
              "      <td>0.878983</td>\n",
              "      <td>1.000000</td>\n",
              "      <td>0.203647</td>\n",
              "      <td>0.008057</td>\n",
              "      <td>0.047584</td>\n",
              "      <td>-0.067274</td>\n",
              "      <td>-0.047624</td>\n",
              "      <td>-0.048895</td>\n",
              "      <td>-0.045684</td>\n",
              "      <td>-0.045684</td>\n",
              "      <td>...</td>\n",
              "      <td>-0.019375</td>\n",
              "      <td>0.007242</td>\n",
              "      <td>0.045339</td>\n",
              "      <td>0.014729</td>\n",
              "      <td>-0.042744</td>\n",
              "      <td>-0.005796</td>\n",
              "      <td>0.473306</td>\n",
              "      <td>-0.465244</td>\n",
              "      <td>-0.512030</td>\n",
              "      <td>-0.348715</td>\n",
              "    </tr>\n",
              "    <tr>\n",
              "      <th>Kms_Driven</th>\n",
              "      <td>0.029187</td>\n",
              "      <td>0.203647</td>\n",
              "      <td>1.000000</td>\n",
              "      <td>0.089216</td>\n",
              "      <td>0.524342</td>\n",
              "      <td>0.449361</td>\n",
              "      <td>-0.053013</td>\n",
              "      <td>-0.002896</td>\n",
              "      <td>-0.044536</td>\n",
              "      <td>-0.025203</td>\n",
              "      <td>...</td>\n",
              "      <td>-0.008000</td>\n",
              "      <td>0.050668</td>\n",
              "      <td>0.032997</td>\n",
              "      <td>-0.051867</td>\n",
              "      <td>0.011053</td>\n",
              "      <td>-0.024550</td>\n",
              "      <td>0.172515</td>\n",
              "      <td>-0.172874</td>\n",
              "      <td>-0.101419</td>\n",
              "      <td>-0.162510</td>\n",
              "    </tr>\n",
              "    <tr>\n",
              "      <th>Owner</th>\n",
              "      <td>-0.088344</td>\n",
              "      <td>0.008057</td>\n",
              "      <td>0.089216</td>\n",
              "      <td>1.000000</td>\n",
              "      <td>0.182104</td>\n",
              "      <td>-0.014272</td>\n",
              "      <td>-0.010075</td>\n",
              "      <td>-0.010075</td>\n",
              "      <td>-0.010075</td>\n",
              "      <td>-0.010075</td>\n",
              "      <td>...</td>\n",
              "      <td>-0.022680</td>\n",
              "      <td>-0.024886</td>\n",
              "      <td>-0.038541</td>\n",
              "      <td>-0.010075</td>\n",
              "      <td>-0.020251</td>\n",
              "      <td>0.117621</td>\n",
              "      <td>-0.053469</td>\n",
              "      <td>0.055687</td>\n",
              "      <td>0.124269</td>\n",
              "      <td>-0.050316</td>\n",
              "    </tr>\n",
              "    <tr>\n",
              "      <th>age</th>\n",
              "      <td>-0.236141</td>\n",
              "      <td>0.047584</td>\n",
              "      <td>0.524342</td>\n",
              "      <td>0.182104</td>\n",
              "      <td>1.000000</td>\n",
              "      <td>0.046121</td>\n",
              "      <td>-0.067442</td>\n",
              "      <td>-0.027442</td>\n",
              "      <td>-0.047442</td>\n",
              "      <td>-0.047442</td>\n",
              "      <td>...</td>\n",
              "      <td>-0.007748</td>\n",
              "      <td>0.212166</td>\n",
              "      <td>0.004321</td>\n",
              "      <td>-0.087442</td>\n",
              "      <td>0.095596</td>\n",
              "      <td>-0.059276</td>\n",
              "      <td>-0.064315</td>\n",
              "      <td>0.059959</td>\n",
              "      <td>0.039896</td>\n",
              "      <td>-0.000394</td>\n",
              "    </tr>\n",
              "    <tr>\n",
              "      <th>...</th>\n",
              "      <td>...</td>\n",
              "      <td>...</td>\n",
              "      <td>...</td>\n",
              "      <td>...</td>\n",
              "      <td>...</td>\n",
              "      <td>...</td>\n",
              "      <td>...</td>\n",
              "      <td>...</td>\n",
              "      <td>...</td>\n",
              "      <td>...</td>\n",
              "      <td>...</td>\n",
              "      <td>...</td>\n",
              "      <td>...</td>\n",
              "      <td>...</td>\n",
              "      <td>...</td>\n",
              "      <td>...</td>\n",
              "      <td>...</td>\n",
              "      <td>...</td>\n",
              "      <td>...</td>\n",
              "      <td>...</td>\n",
              "      <td>...</td>\n",
              "    </tr>\n",
              "    <tr>\n",
              "      <th>Car_Name_xcent</th>\n",
              "      <td>0.006038</td>\n",
              "      <td>-0.005796</td>\n",
              "      <td>-0.024550</td>\n",
              "      <td>0.117621</td>\n",
              "      <td>-0.059276</td>\n",
              "      <td>-0.008206</td>\n",
              "      <td>-0.005793</td>\n",
              "      <td>-0.005793</td>\n",
              "      <td>-0.005793</td>\n",
              "      <td>-0.005793</td>\n",
              "      <td>...</td>\n",
              "      <td>-0.013040</td>\n",
              "      <td>-0.014309</td>\n",
              "      <td>-0.022160</td>\n",
              "      <td>-0.005793</td>\n",
              "      <td>-0.011644</td>\n",
              "      <td>1.000000</td>\n",
              "      <td>-0.050063</td>\n",
              "      <td>0.051103</td>\n",
              "      <td>-0.073976</td>\n",
              "      <td>0.039279</td>\n",
              "    </tr>\n",
              "    <tr>\n",
              "      <th>Fuel_Type_Diesel</th>\n",
              "      <td>0.552339</td>\n",
              "      <td>0.473306</td>\n",
              "      <td>0.172515</td>\n",
              "      <td>-0.053469</td>\n",
              "      <td>-0.064315</td>\n",
              "      <td>-0.040808</td>\n",
              "      <td>-0.028808</td>\n",
              "      <td>-0.028808</td>\n",
              "      <td>-0.028808</td>\n",
              "      <td>-0.028808</td>\n",
              "      <td>...</td>\n",
              "      <td>0.065282</td>\n",
              "      <td>-0.011662</td>\n",
              "      <td>0.126733</td>\n",
              "      <td>0.115710</td>\n",
              "      <td>-0.057905</td>\n",
              "      <td>-0.050063</td>\n",
              "      <td>1.000000</td>\n",
              "      <td>-0.979648</td>\n",
              "      <td>-0.350467</td>\n",
              "      <td>-0.098643</td>\n",
              "    </tr>\n",
              "    <tr>\n",
              "      <th>Fuel_Type_Petrol</th>\n",
              "      <td>-0.540571</td>\n",
              "      <td>-0.465244</td>\n",
              "      <td>-0.172874</td>\n",
              "      <td>0.055687</td>\n",
              "      <td>0.059959</td>\n",
              "      <td>0.041656</td>\n",
              "      <td>0.029406</td>\n",
              "      <td>0.029406</td>\n",
              "      <td>0.029406</td>\n",
              "      <td>0.029406</td>\n",
              "      <td>...</td>\n",
              "      <td>-0.062353</td>\n",
              "      <td>-0.044910</td>\n",
              "      <td>-0.121563</td>\n",
              "      <td>-0.113355</td>\n",
              "      <td>-0.012632</td>\n",
              "      <td>0.051103</td>\n",
              "      <td>-0.979648</td>\n",
              "      <td>1.000000</td>\n",
              "      <td>0.358321</td>\n",
              "      <td>0.091013</td>\n",
              "    </tr>\n",
              "    <tr>\n",
              "      <th>Seller_Type_Individual</th>\n",
              "      <td>-0.550724</td>\n",
              "      <td>-0.512030</td>\n",
              "      <td>-0.101419</td>\n",
              "      <td>0.124269</td>\n",
              "      <td>0.039896</td>\n",
              "      <td>0.110929</td>\n",
              "      <td>0.078308</td>\n",
              "      <td>0.078308</td>\n",
              "      <td>0.078308</td>\n",
              "      <td>0.078308</td>\n",
              "      <td>...</td>\n",
              "      <td>-0.041403</td>\n",
              "      <td>-0.105148</td>\n",
              "      <td>-0.162839</td>\n",
              "      <td>-0.042567</td>\n",
              "      <td>-0.085563</td>\n",
              "      <td>-0.073976</td>\n",
              "      <td>-0.350467</td>\n",
              "      <td>0.358321</td>\n",
              "      <td>1.000000</td>\n",
              "      <td>0.063240</td>\n",
              "    </tr>\n",
              "    <tr>\n",
              "      <th>Transmission_Manual</th>\n",
              "      <td>-0.367128</td>\n",
              "      <td>-0.348715</td>\n",
              "      <td>-0.162510</td>\n",
              "      <td>-0.050316</td>\n",
              "      <td>-0.000394</td>\n",
              "      <td>-0.208915</td>\n",
              "      <td>-0.147479</td>\n",
              "      <td>0.022602</td>\n",
              "      <td>0.022602</td>\n",
              "      <td>0.022602</td>\n",
              "      <td>...</td>\n",
              "      <td>0.050880</td>\n",
              "      <td>-0.014190</td>\n",
              "      <td>0.039989</td>\n",
              "      <td>0.022602</td>\n",
              "      <td>0.045432</td>\n",
              "      <td>0.039279</td>\n",
              "      <td>-0.098643</td>\n",
              "      <td>0.091013</td>\n",
              "      <td>0.063240</td>\n",
              "      <td>1.000000</td>\n",
              "    </tr>\n",
              "  </tbody>\n",
              "</table>\n",
              "<p>106 rows × 106 columns</p>\n",
              "</div>\n",
              "      <button class=\"colab-df-convert\" onclick=\"convertToInteractive('df-13daf0e0-21ba-4102-a37f-4463ffda146b')\"\n",
              "              title=\"Convert this dataframe to an interactive table.\"\n",
              "              style=\"display:none;\">\n",
              "        \n",
              "  <svg xmlns=\"http://www.w3.org/2000/svg\" height=\"24px\"viewBox=\"0 0 24 24\"\n",
              "       width=\"24px\">\n",
              "    <path d=\"M0 0h24v24H0V0z\" fill=\"none\"/>\n",
              "    <path d=\"M18.56 5.44l.94 2.06.94-2.06 2.06-.94-2.06-.94-.94-2.06-.94 2.06-2.06.94zm-11 1L8.5 8.5l.94-2.06 2.06-.94-2.06-.94L8.5 2.5l-.94 2.06-2.06.94zm10 10l.94 2.06.94-2.06 2.06-.94-2.06-.94-.94-2.06-.94 2.06-2.06.94z\"/><path d=\"M17.41 7.96l-1.37-1.37c-.4-.4-.92-.59-1.43-.59-.52 0-1.04.2-1.43.59L10.3 9.45l-7.72 7.72c-.78.78-.78 2.05 0 2.83L4 21.41c.39.39.9.59 1.41.59.51 0 1.02-.2 1.41-.59l7.78-7.78 2.81-2.81c.8-.78.8-2.07 0-2.86zM5.41 20L4 18.59l7.72-7.72 1.47 1.35L5.41 20z\"/>\n",
              "  </svg>\n",
              "      </button>\n",
              "      \n",
              "  <style>\n",
              "    .colab-df-container {\n",
              "      display:flex;\n",
              "      flex-wrap:wrap;\n",
              "      gap: 12px;\n",
              "    }\n",
              "\n",
              "    .colab-df-convert {\n",
              "      background-color: #E8F0FE;\n",
              "      border: none;\n",
              "      border-radius: 50%;\n",
              "      cursor: pointer;\n",
              "      display: none;\n",
              "      fill: #1967D2;\n",
              "      height: 32px;\n",
              "      padding: 0 0 0 0;\n",
              "      width: 32px;\n",
              "    }\n",
              "\n",
              "    .colab-df-convert:hover {\n",
              "      background-color: #E2EBFA;\n",
              "      box-shadow: 0px 1px 2px rgba(60, 64, 67, 0.3), 0px 1px 3px 1px rgba(60, 64, 67, 0.15);\n",
              "      fill: #174EA6;\n",
              "    }\n",
              "\n",
              "    [theme=dark] .colab-df-convert {\n",
              "      background-color: #3B4455;\n",
              "      fill: #D2E3FC;\n",
              "    }\n",
              "\n",
              "    [theme=dark] .colab-df-convert:hover {\n",
              "      background-color: #434B5C;\n",
              "      box-shadow: 0px 1px 3px 1px rgba(0, 0, 0, 0.15);\n",
              "      filter: drop-shadow(0px 1px 2px rgba(0, 0, 0, 0.3));\n",
              "      fill: #FFFFFF;\n",
              "    }\n",
              "  </style>\n",
              "\n",
              "      <script>\n",
              "        const buttonEl =\n",
              "          document.querySelector('#df-13daf0e0-21ba-4102-a37f-4463ffda146b button.colab-df-convert');\n",
              "        buttonEl.style.display =\n",
              "          google.colab.kernel.accessAllowed ? 'block' : 'none';\n",
              "\n",
              "        async function convertToInteractive(key) {\n",
              "          const element = document.querySelector('#df-13daf0e0-21ba-4102-a37f-4463ffda146b');\n",
              "          const dataTable =\n",
              "            await google.colab.kernel.invokeFunction('convertToInteractive',\n",
              "                                                     [key], {});\n",
              "          if (!dataTable) return;\n",
              "\n",
              "          const docLinkHtml = 'Like what you see? Visit the ' +\n",
              "            '<a target=\"_blank\" href=https://colab.research.google.com/notebooks/data_table.ipynb>data table notebook</a>'\n",
              "            + ' to learn more about interactive tables.';\n",
              "          element.innerHTML = '';\n",
              "          dataTable['output_type'] = 'display_data';\n",
              "          await google.colab.output.renderOutput(dataTable, element);\n",
              "          const docLink = document.createElement('div');\n",
              "          docLink.innerHTML = docLinkHtml;\n",
              "          element.appendChild(docLink);\n",
              "        }\n",
              "      </script>\n",
              "    </div>\n",
              "  </div>\n",
              "  "
            ]
          },
          "metadata": {},
          "execution_count": 17
        }
      ]
    },
    {
      "cell_type": "code",
      "source": [
        "from sklearn.model_selection import train_test_split\n",
        "\n",
        "X_train, X_test, y_train, y_test = train_test_split(X, y, train_size= 0.70)"
      ],
      "metadata": {
        "id": "stXNVwb89B9U"
      },
      "execution_count": null,
      "outputs": []
    },
    {
      "cell_type": "code",
      "source": [
        "from sklearn.ensemble import ExtraTreesRegressor\n",
        "\n",
        "model = ExtraTreesRegressor()\n",
        "model.fit(X_train, y_train)\n",
        "y_pred = model.predict(X_test)"
      ],
      "metadata": {
        "id": "gNzt14fZ6ojE"
      },
      "execution_count": null,
      "outputs": []
    },
    {
      "cell_type": "code",
      "source": [
        "df.head(2)"
      ],
      "metadata": {
        "colab": {
          "base_uri": "https://localhost:8080/",
          "height": 240
        },
        "id": "ftGli44y9sSK",
        "outputId": "2683b24e-3fc0-498e-eefe-9c7c4c6f48b6"
      },
      "execution_count": null,
      "outputs": [
        {
          "output_type": "execute_result",
          "data": {
            "text/plain": [
              "   Selling_Price  Present_Price  Kms_Driven  Owner  age  Car_Name_Activa 3g  \\\n",
              "0           3.35           5.59       27000      0    8                   0   \n",
              "1           4.75           9.54       43000      0    9                   0   \n",
              "\n",
              "   Car_Name_Activa 4g  Car_Name_Bajaj  ct 100  Car_Name_Bajaj Avenger 150  \\\n",
              "0                   0                       0                           0   \n",
              "1                   0                       0                           0   \n",
              "\n",
              "   Car_Name_Bajaj Avenger 150 street  ...  Car_Name_swift  Car_Name_sx4  \\\n",
              "0                                  0  ...               0             0   \n",
              "1                                  0  ...               0             1   \n",
              "\n",
              "   Car_Name_verna  Car_Name_vitara brezza  Car_Name_wagon r  Car_Name_xcent  \\\n",
              "0               0                       0                 0               0   \n",
              "1               0                       0                 0               0   \n",
              "\n",
              "   Fuel_Type_Diesel  Fuel_Type_Petrol  Seller_Type_Individual  \\\n",
              "0                 0                 1                       0   \n",
              "1                 1                 0                       0   \n",
              "\n",
              "   Transmission_Manual  \n",
              "0                    1  \n",
              "1                    1  \n",
              "\n",
              "[2 rows x 106 columns]"
            ],
            "text/html": [
              "\n",
              "  <div id=\"df-65706b81-cdb5-4e5e-b1e7-0b485596625c\">\n",
              "    <div class=\"colab-df-container\">\n",
              "      <div>\n",
              "<style scoped>\n",
              "    .dataframe tbody tr th:only-of-type {\n",
              "        vertical-align: middle;\n",
              "    }\n",
              "\n",
              "    .dataframe tbody tr th {\n",
              "        vertical-align: top;\n",
              "    }\n",
              "\n",
              "    .dataframe thead th {\n",
              "        text-align: right;\n",
              "    }\n",
              "</style>\n",
              "<table border=\"1\" class=\"dataframe\">\n",
              "  <thead>\n",
              "    <tr style=\"text-align: right;\">\n",
              "      <th></th>\n",
              "      <th>Selling_Price</th>\n",
              "      <th>Present_Price</th>\n",
              "      <th>Kms_Driven</th>\n",
              "      <th>Owner</th>\n",
              "      <th>age</th>\n",
              "      <th>Car_Name_Activa 3g</th>\n",
              "      <th>Car_Name_Activa 4g</th>\n",
              "      <th>Car_Name_Bajaj  ct 100</th>\n",
              "      <th>Car_Name_Bajaj Avenger 150</th>\n",
              "      <th>Car_Name_Bajaj Avenger 150 street</th>\n",
              "      <th>...</th>\n",
              "      <th>Car_Name_swift</th>\n",
              "      <th>Car_Name_sx4</th>\n",
              "      <th>Car_Name_verna</th>\n",
              "      <th>Car_Name_vitara brezza</th>\n",
              "      <th>Car_Name_wagon r</th>\n",
              "      <th>Car_Name_xcent</th>\n",
              "      <th>Fuel_Type_Diesel</th>\n",
              "      <th>Fuel_Type_Petrol</th>\n",
              "      <th>Seller_Type_Individual</th>\n",
              "      <th>Transmission_Manual</th>\n",
              "    </tr>\n",
              "  </thead>\n",
              "  <tbody>\n",
              "    <tr>\n",
              "      <th>0</th>\n",
              "      <td>3.35</td>\n",
              "      <td>5.59</td>\n",
              "      <td>27000</td>\n",
              "      <td>0</td>\n",
              "      <td>8</td>\n",
              "      <td>0</td>\n",
              "      <td>0</td>\n",
              "      <td>0</td>\n",
              "      <td>0</td>\n",
              "      <td>0</td>\n",
              "      <td>...</td>\n",
              "      <td>0</td>\n",
              "      <td>0</td>\n",
              "      <td>0</td>\n",
              "      <td>0</td>\n",
              "      <td>0</td>\n",
              "      <td>0</td>\n",
              "      <td>0</td>\n",
              "      <td>1</td>\n",
              "      <td>0</td>\n",
              "      <td>1</td>\n",
              "    </tr>\n",
              "    <tr>\n",
              "      <th>1</th>\n",
              "      <td>4.75</td>\n",
              "      <td>9.54</td>\n",
              "      <td>43000</td>\n",
              "      <td>0</td>\n",
              "      <td>9</td>\n",
              "      <td>0</td>\n",
              "      <td>0</td>\n",
              "      <td>0</td>\n",
              "      <td>0</td>\n",
              "      <td>0</td>\n",
              "      <td>...</td>\n",
              "      <td>0</td>\n",
              "      <td>1</td>\n",
              "      <td>0</td>\n",
              "      <td>0</td>\n",
              "      <td>0</td>\n",
              "      <td>0</td>\n",
              "      <td>1</td>\n",
              "      <td>0</td>\n",
              "      <td>0</td>\n",
              "      <td>1</td>\n",
              "    </tr>\n",
              "  </tbody>\n",
              "</table>\n",
              "<p>2 rows × 106 columns</p>\n",
              "</div>\n",
              "      <button class=\"colab-df-convert\" onclick=\"convertToInteractive('df-65706b81-cdb5-4e5e-b1e7-0b485596625c')\"\n",
              "              title=\"Convert this dataframe to an interactive table.\"\n",
              "              style=\"display:none;\">\n",
              "        \n",
              "  <svg xmlns=\"http://www.w3.org/2000/svg\" height=\"24px\"viewBox=\"0 0 24 24\"\n",
              "       width=\"24px\">\n",
              "    <path d=\"M0 0h24v24H0V0z\" fill=\"none\"/>\n",
              "    <path d=\"M18.56 5.44l.94 2.06.94-2.06 2.06-.94-2.06-.94-.94-2.06-.94 2.06-2.06.94zm-11 1L8.5 8.5l.94-2.06 2.06-.94-2.06-.94L8.5 2.5l-.94 2.06-2.06.94zm10 10l.94 2.06.94-2.06 2.06-.94-2.06-.94-.94-2.06-.94 2.06-2.06.94z\"/><path d=\"M17.41 7.96l-1.37-1.37c-.4-.4-.92-.59-1.43-.59-.52 0-1.04.2-1.43.59L10.3 9.45l-7.72 7.72c-.78.78-.78 2.05 0 2.83L4 21.41c.39.39.9.59 1.41.59.51 0 1.02-.2 1.41-.59l7.78-7.78 2.81-2.81c.8-.78.8-2.07 0-2.86zM5.41 20L4 18.59l7.72-7.72 1.47 1.35L5.41 20z\"/>\n",
              "  </svg>\n",
              "      </button>\n",
              "      \n",
              "  <style>\n",
              "    .colab-df-container {\n",
              "      display:flex;\n",
              "      flex-wrap:wrap;\n",
              "      gap: 12px;\n",
              "    }\n",
              "\n",
              "    .colab-df-convert {\n",
              "      background-color: #E8F0FE;\n",
              "      border: none;\n",
              "      border-radius: 50%;\n",
              "      cursor: pointer;\n",
              "      display: none;\n",
              "      fill: #1967D2;\n",
              "      height: 32px;\n",
              "      padding: 0 0 0 0;\n",
              "      width: 32px;\n",
              "    }\n",
              "\n",
              "    .colab-df-convert:hover {\n",
              "      background-color: #E2EBFA;\n",
              "      box-shadow: 0px 1px 2px rgba(60, 64, 67, 0.3), 0px 1px 3px 1px rgba(60, 64, 67, 0.15);\n",
              "      fill: #174EA6;\n",
              "    }\n",
              "\n",
              "    [theme=dark] .colab-df-convert {\n",
              "      background-color: #3B4455;\n",
              "      fill: #D2E3FC;\n",
              "    }\n",
              "\n",
              "    [theme=dark] .colab-df-convert:hover {\n",
              "      background-color: #434B5C;\n",
              "      box-shadow: 0px 1px 3px 1px rgba(0, 0, 0, 0.15);\n",
              "      filter: drop-shadow(0px 1px 2px rgba(0, 0, 0, 0.3));\n",
              "      fill: #FFFFFF;\n",
              "    }\n",
              "  </style>\n",
              "\n",
              "      <script>\n",
              "        const buttonEl =\n",
              "          document.querySelector('#df-65706b81-cdb5-4e5e-b1e7-0b485596625c button.colab-df-convert');\n",
              "        buttonEl.style.display =\n",
              "          google.colab.kernel.accessAllowed ? 'block' : 'none';\n",
              "\n",
              "        async function convertToInteractive(key) {\n",
              "          const element = document.querySelector('#df-65706b81-cdb5-4e5e-b1e7-0b485596625c');\n",
              "          const dataTable =\n",
              "            await google.colab.kernel.invokeFunction('convertToInteractive',\n",
              "                                                     [key], {});\n",
              "          if (!dataTable) return;\n",
              "\n",
              "          const docLinkHtml = 'Like what you see? Visit the ' +\n",
              "            '<a target=\"_blank\" href=https://colab.research.google.com/notebooks/data_table.ipynb>data table notebook</a>'\n",
              "            + ' to learn more about interactive tables.';\n",
              "          element.innerHTML = '';\n",
              "          dataTable['output_type'] = 'display_data';\n",
              "          await google.colab.output.renderOutput(dataTable, element);\n",
              "          const docLink = document.createElement('div');\n",
              "          docLink.innerHTML = docLinkHtml;\n",
              "          element.appendChild(docLink);\n",
              "        }\n",
              "      </script>\n",
              "    </div>\n",
              "  </div>\n",
              "  "
            ]
          },
          "metadata": {},
          "execution_count": 20
        }
      ]
    },
    {
      "cell_type": "code",
      "source": [
        "model.feature_importances_"
      ],
      "metadata": {
        "colab": {
          "base_uri": "https://localhost:8080/"
        },
        "id": "lBMjyjln-sIy",
        "outputId": "fa9129ed-d5f0-4fd8-a678-e45c58d8b6e8"
      },
      "execution_count": null,
      "outputs": [
        {
          "output_type": "execute_result",
          "data": {
            "text/plain": [
              "array([4.69176889e-01, 4.06298790e-02, 7.56059490e-04, 1.07091119e-01,\n",
              "       1.83000640e-07, 6.07311637e-07, 4.07414265e-06, 0.00000000e+00,\n",
              "       8.60599347e-07, 1.87427618e-05, 8.20426901e-07, 2.46503237e-08,\n",
              "       1.24200338e-07, 6.14500197e-07, 0.00000000e+00, 1.66128817e-06,\n",
              "       0.00000000e+00, 6.75481141e-06, 2.74587800e-06, 2.93716962e-06,\n",
              "       0.00000000e+00, 1.81078435e-06, 1.59117789e-06, 5.59369681e-06,\n",
              "       2.97094200e-07, 0.00000000e+00, 5.54566141e-07, 2.38876204e-07,\n",
              "       2.29319464e-07, 1.85163600e-06, 1.48525007e-06, 3.63732494e-07,\n",
              "       1.47425370e-07, 1.13798060e-06, 0.00000000e+00, 7.97444512e-06,\n",
              "       9.42078922e-07, 0.00000000e+00, 1.53694607e-06, 1.15533541e-07,\n",
              "       1.20335253e-05, 2.09995856e-07, 4.64122014e-06, 0.00000000e+00,\n",
              "       9.35666503e-06, 3.63939340e-05, 0.00000000e+00, 8.00649829e-06,\n",
              "       1.73885755e-05, 1.13072703e-04, 2.11511694e-05, 2.64852399e-05,\n",
              "       3.18134308e-05, 0.00000000e+00, 3.60738276e-06, 2.82719936e-06,\n",
              "       0.00000000e+00, 6.75975672e-07, 2.55201894e-07, 2.77035083e-05,\n",
              "       0.00000000e+00, 0.00000000e+00, 0.00000000e+00, 5.30894899e-06,\n",
              "       2.02279388e-07, 1.57818820e-05, 3.04494684e-04, 3.06278007e-04,\n",
              "       4.79585515e-05, 3.22659234e-04, 7.47614818e-04, 1.47696829e-03,\n",
              "       5.91055384e-03, 3.49836998e-04, 4.38762868e-03, 2.48587620e-03,\n",
              "       9.97474228e-05, 1.68782029e-03, 2.12493638e-04, 3.85058431e-04,\n",
              "       2.27264846e-05, 1.87514981e-04, 1.46016277e-04, 6.22001841e-05,\n",
              "       1.23715135e-01, 7.07406442e-04, 1.07800218e-04, 8.30753040e-05,\n",
              "       8.91013123e-05, 2.58335483e-02, 4.86749892e-04, 0.00000000e+00,\n",
              "       2.62222428e-04, 1.76573710e-04, 7.53564372e-05, 3.27775092e-03,\n",
              "       3.62570942e-04, 1.63524971e-03, 0.00000000e+00, 5.98464018e-05,\n",
              "       6.75149875e-05, 1.76606183e-02, 1.02525956e-02, 1.66343313e-01,\n",
              "       1.16032411e-02])"
            ]
          },
          "metadata": {},
          "execution_count": 21
        }
      ]
    },
    {
      "cell_type": "code",
      "source": [
        "seri_fea_imp = pd.Series(model.feature_importances_)"
      ],
      "metadata": {
        "id": "CtovFfGT_AhM"
      },
      "execution_count": null,
      "outputs": []
    },
    {
      "cell_type": "code",
      "source": [
        "seri_fea_imp.head(2)"
      ],
      "metadata": {
        "colab": {
          "base_uri": "https://localhost:8080/"
        },
        "id": "RtWJZECRctV7",
        "outputId": "de0ac620-e6d8-4a84-b5d9-c0f928b87613"
      },
      "execution_count": null,
      "outputs": [
        {
          "output_type": "execute_result",
          "data": {
            "text/plain": [
              "0    0.469177\n",
              "1    0.040630\n",
              "dtype: float64"
            ]
          },
          "metadata": {},
          "execution_count": 23
        }
      ]
    },
    {
      "cell_type": "code",
      "source": [
        "seri_fea_imp.nlargest(5).plot(kind='bar')\n",
        "plt.show()"
      ],
      "metadata": {
        "colab": {
          "base_uri": "https://localhost:8080/",
          "height": 274
        },
        "id": "5-e0qS9eH8lo",
        "outputId": "398b0771-8d34-4631-e2ab-5c1619bfc4ee"
      },
      "execution_count": null,
      "outputs": [
        {
          "output_type": "display_data",
          "data": {
            "text/plain": [
              "<Figure size 432x288 with 1 Axes>"
            ],
            "image/png": "[encoded data removed]"
          },
          "metadata": {
            "needs_background": "light"
          }
        }
      ]
    },
    {
      "cell_type": "code",
      "source": [
        "#sns.barplot(data=seri_fea_imp.nlargest(5) , x= seri_fea_imp.index);"
      ],
      "metadata": {
        "id": "D2LdJ7cOILm6"
      },
      "execution_count": null,
      "outputs": []
    },
    {
      "cell_type": "code",
      "source": [
        "from lightgbm import LGBMRegressor"
      ],
      "metadata": {
        "id": "sDNE8KgTD1gI"
      },
      "execution_count": null,
      "outputs": []
    },
    {
      "cell_type": "code",
      "source": [
        "from scipy.stats import uniform, randint"
      ],
      "metadata": {
        "id": "CRPiNnpSEC8p"
      },
      "execution_count": null,
      "outputs": []
    },
    {
      "cell_type": "code",
      "source": [
        "from sklearn.model_selection import RandomizedSearchCV"
      ],
      "metadata": {
        "id": "TNGuFkiHKAjz"
      },
      "execution_count": null,
      "outputs": []
    },
    {
      "cell_type": "code",
      "source": [
        "model = LGBMRegressor()"
      ],
      "metadata": {
        "id": "r3OLxCodEtOS"
      },
      "execution_count": null,
      "outputs": []
    },
    {
      "cell_type": "code",
      "source": [
        "param_rand = {'n_estimators':[int(x) for x in np.linspace(1, 100, 10)],\n",
        "                       'gamma':uniform(0,0.5),\n",
        "                       'learning_rate':uniform(0.03,0.3),\n",
        "                       'max_depth':randint(2,6),\n",
        "                       'n_stimators':randint(100,150),\n",
        "                       'subsample':uniform(0.6, 0.4)\n",
        "                       }"
      ],
      "metadata": {
        "id": "l1yb6COjC4Ex"
      },
      "execution_count": null,
      "outputs": []
    },
    {
      "cell_type": "code",
      "source": [
        "rand_model = RandomizedSearchCV(estimator= model,\n",
        "                                param_distributions= param_rand,\n",
        "                                scoring='neg_mean_squared_error',\n",
        "                                n_iter=10,\n",
        "                                cv=5, \n",
        "                                verbose=2,\n",
        "                                random_state=0,\n",
        "                                n_jobs=1)"
      ],
      "metadata": {
        "id": "ePeNju4nCuOf"
      },
      "execution_count": null,
      "outputs": []
    },
    {
      "cell_type": "code",
      "source": [
        "rand_model.fit(X_train, y_train);"
      ],
      "metadata": {
        "colab": {
          "base_uri": "https://localhost:8080/"
        },
        "id": "uolSNQybC1Wk",
        "outputId": "44e0fa92-7a19-48d0-c8f0-3a38a6896961"
      },
      "execution_count": null,
      "outputs": [
        {
          "output_type": "stream",
          "name": "stdout",
          "text": [
            "Fitting 5 folds for each of 10 candidates, totalling 50 fits\n",
            "[CV] END gamma=0.2744067519636624, learning_rate=0.24455680991172585, max_depth=5, n_estimators=34, n_stimators=139, subsample=0.7694619197355619; total time=   0.0s\n",
            "[CV] END gamma=0.2744067519636624, learning_rate=0.24455680991172585, max_depth=5, n_estimators=34, n_stimators=139, subsample=0.7694619197355619; total time=   0.0s\n",
            "[CV] END gamma=0.2744067519636624, learning_rate=0.24455680991172585, max_depth=5, n_estimators=34, n_stimators=139, subsample=0.7694619197355619; total time=   0.0s\n",
            "[CV] END gamma=0.2744067519636624, learning_rate=0.24455680991172585, max_depth=5, n_estimators=34, n_stimators=139, subsample=0.7694619197355619; total time=   0.0s\n",
            "[CV] END gamma=0.2744067519636624, learning_rate=0.24455680991172585, max_depth=5, n_estimators=34, n_stimators=139, subsample=0.7694619197355619; total time=   0.0s\n",
            "[CV] END gamma=0.32294705653332806, learning_rate=0.16127616337880774, max_depth=4, n_estimators=89, n_stimators=124, subsample=0.7090625178320453; total time=   0.0s\n",
            "[CV] END gamma=0.32294705653332806, learning_rate=0.16127616337880774, max_depth=4, n_estimators=89, n_stimators=124, subsample=0.7090625178320453; total time=   0.0s\n",
            "[CV] END gamma=0.32294705653332806, learning_rate=0.16127616337880774, max_depth=4, n_estimators=89, n_stimators=124, subsample=0.7090625178320453; total time=   0.0s\n",
            "[CV] END gamma=0.32294705653332806, learning_rate=0.16127616337880774, max_depth=4, n_estimators=89, n_stimators=124, subsample=0.7090625178320453; total time=   0.0s\n",
            "[CV] END gamma=0.32294705653332806, learning_rate=0.16127616337880774, max_depth=4, n_estimators=89, n_stimators=124, subsample=0.7090625178320453; total time=   0.0s\n",
            "[CV] END gamma=0.23883255866067493, learning_rate=0.27365061863264795, max_depth=4, n_estimators=89, n_stimators=117, subsample=0.9702386553170644; total time=   0.0s\n",
            "[CV] END gamma=0.23883255866067493, learning_rate=0.27365061863264795, max_depth=4, n_estimators=89, n_stimators=117, subsample=0.9702386553170644; total time=   0.0s\n",
            "[CV] END gamma=0.23883255866067493, learning_rate=0.27365061863264795, max_depth=4, n_estimators=89, n_stimators=117, subsample=0.9702386553170644; total time=   0.0s\n",
            "[CV] END gamma=0.23883255866067493, learning_rate=0.27365061863264795, max_depth=4, n_estimators=89, n_stimators=117, subsample=0.9702386553170644; total time=   0.0s\n",
            "[CV] END gamma=0.23883255866067493, learning_rate=0.27365061863264795, max_depth=4, n_estimators=89, n_stimators=117, subsample=0.9702386553170644; total time=   0.0s\n",
            "[CV] END gamma=0.03551802909894347, learning_rate=0.056138789910462214, max_depth=5, n_estimators=1, n_stimators=105, subsample=0.9112627003799402; total time=   0.0s\n",
            "[CV] END gamma=0.03551802909894347, learning_rate=0.056138789910462214, max_depth=5, n_estimators=1, n_stimators=105, subsample=0.9112627003799402; total time=   0.0s\n",
            "[CV] END gamma=0.03551802909894347, learning_rate=0.056138789910462214, max_depth=5, n_estimators=1, n_stimators=105, subsample=0.9112627003799402; total time=   0.0s\n",
            "[CV] END gamma=0.03551802909894347, learning_rate=0.056138789910462214, max_depth=5, n_estimators=1, n_stimators=105, subsample=0.9112627003799402; total time=   0.0s\n",
            "[CV] END gamma=0.03551802909894347, learning_rate=0.056138789910462214, max_depth=5, n_estimators=1, n_stimators=105, subsample=0.9112627003799402; total time=   0.0s\n",
            "[CV] END gamma=0.4350060741234096, learning_rate=0.3235855026698292, max_depth=2, n_estimators=12, n_stimators=129, subsample=0.9122116705145822; total time=   0.0s\n",
            "[CV] END gamma=0.4350060741234096, learning_rate=0.3235855026698292, max_depth=2, n_estimators=12, n_stimators=129, subsample=0.9122116705145822; total time=   0.0s\n",
            "[CV] END gamma=0.4350060741234096, learning_rate=0.3235855026698292, max_depth=2, n_estimators=12, n_stimators=129, subsample=0.9122116705145822; total time=   0.0s\n",
            "[CV] END gamma=0.4350060741234096, learning_rate=0.3235855026698292, max_depth=2, n_estimators=12, n_stimators=129, subsample=0.9122116705145822; total time=   0.0s\n",
            "[CV] END gamma=0.4350060741234096, learning_rate=0.3235855026698292, max_depth=2, n_estimators=12, n_stimators=129, subsample=0.9122116705145822; total time=   0.0s\n",
            "[CV] END gamma=0.05913721293446661, learning_rate=0.22197630639825713, max_depth=3, n_estimators=100, n_stimators=132, subsample=0.8087393287000286; total time=   0.0s\n",
            "[CV] END gamma=0.05913721293446661, learning_rate=0.22197630639825713, max_depth=3, n_estimators=100, n_stimators=132, subsample=0.8087393287000286; total time=   0.0s\n",
            "[CV] END gamma=0.05913721293446661, learning_rate=0.22197630639825713, max_depth=3, n_estimators=100, n_stimators=132, subsample=0.8087393287000286; total time=   0.0s\n",
            "[CV] END gamma=0.05913721293446661, learning_rate=0.22197630639825713, max_depth=3, n_estimators=100, n_stimators=132, subsample=0.8087393287000286; total time=   0.0s\n",
            "[CV] END gamma=0.05913721293446661, learning_rate=0.22197630639825713, max_depth=3, n_estimators=100, n_stimators=132, subsample=0.8087393287000286; total time=   0.0s\n",
            "[CV] END gamma=0.2073309699952618, learning_rate=0.10936668363138809, max_depth=5, n_estimators=23, n_stimators=128, subsample=0.8273735795474594; total time=   0.0s\n",
            "[CV] END gamma=0.2073309699952618, learning_rate=0.10936668363138809, max_depth=5, n_estimators=23, n_stimators=128, subsample=0.8273735795474594; total time=   0.0s\n",
            "[CV] END gamma=0.2073309699952618, learning_rate=0.10936668363138809, max_depth=5, n_estimators=23, n_stimators=128, subsample=0.8273735795474594; total time=   0.0s\n",
            "[CV] END gamma=0.2073309699952618, learning_rate=0.10936668363138809, max_depth=5, n_estimators=23, n_stimators=128, subsample=0.8273735795474594; total time=   0.0s\n",
            "[CV] END gamma=0.2073309699952618, learning_rate=0.10936668363138809, max_depth=5, n_estimators=23, n_stimators=128, subsample=0.8273735795474594; total time=   0.0s\n",
            "[CV] END gamma=0.009394900218177571, learning_rate=0.2152906491227631, max_depth=4, n_estimators=89, n_stimators=117, subsample=0.9774992314058497; total time=   0.0s\n",
            "[CV] END gamma=0.009394900218177571, learning_rate=0.2152906491227631, max_depth=4, n_estimators=89, n_stimators=117, subsample=0.9774992314058497; total time=   0.0s\n",
            "[CV] END gamma=0.009394900218177571, learning_rate=0.2152906491227631, max_depth=4, n_estimators=89, n_stimators=117, subsample=0.9774992314058497; total time=   0.0s\n",
            "[CV] END gamma=0.009394900218177571, learning_rate=0.2152906491227631, max_depth=4, n_estimators=89, n_stimators=117, subsample=0.9774992314058497; total time=   0.0s\n",
            "[CV] END gamma=0.009394900218177571, learning_rate=0.2152906491227631, max_depth=4, n_estimators=89, n_stimators=117, subsample=0.9774992314058497; total time=   0.0s\n",
            "[CV] END gamma=0.3409101495517417, learning_rate=0.1378523701721358, max_depth=2, n_estimators=12, n_stimators=101, subsample=0.6397121401435896; total time=   0.0s\n",
            "[CV] END gamma=0.3409101495517417, learning_rate=0.1378523701721358, max_depth=2, n_estimators=12, n_stimators=101, subsample=0.6397121401435896; total time=   0.0s\n",
            "[CV] END gamma=0.3409101495517417, learning_rate=0.1378523701721358, max_depth=2, n_estimators=12, n_stimators=101, subsample=0.6397121401435896; total time=   0.0s\n",
            "[CV] END gamma=0.3409101495517417, learning_rate=0.1378523701721358, max_depth=2, n_estimators=12, n_stimators=101, subsample=0.6397121401435896; total time=   0.0s\n",
            "[CV] END gamma=0.3409101495517417, learning_rate=0.1378523701721358, max_depth=2, n_estimators=12, n_stimators=101, subsample=0.6397121401435896; total time=   0.0s\n",
            "[CV] END gamma=0.4849045338733744, learning_rate=0.2259420107393813, max_depth=5, n_estimators=23, n_stimators=127, subsample=0.9002744564873825; total time=   0.0s\n",
            "[CV] END gamma=0.4849045338733744, learning_rate=0.2259420107393813, max_depth=5, n_estimators=23, n_stimators=127, subsample=0.9002744564873825; total time=   0.0s\n",
            "[CV] END gamma=0.4849045338733744, learning_rate=0.2259420107393813, max_depth=5, n_estimators=23, n_stimators=127, subsample=0.9002744564873825; total time=   0.0s\n",
            "[CV] END gamma=0.4849045338733744, learning_rate=0.2259420107393813, max_depth=5, n_estimators=23, n_stimators=127, subsample=0.9002744564873825; total time=   0.0s\n",
            "[CV] END gamma=0.4849045338733744, learning_rate=0.2259420107393813, max_depth=5, n_estimators=23, n_stimators=127, subsample=0.9002744564873825; total time=   0.0s\n"
          ]
        }
      ]
    },
    {
      "cell_type": "code",
      "source": [
        "y_pred = rand_model.predict(X_test)"
      ],
      "metadata": {
        "id": "weWN2Y-8IBGv"
      },
      "execution_count": null,
      "outputs": []
    },
    {
      "cell_type": "code",
      "source": [
        "rand_model.best_params_"
      ],
      "metadata": {
        "colab": {
          "base_uri": "https://localhost:8080/"
        },
        "id": "Xa9tS_7Xgfzq",
        "outputId": "01b3e6c2-2c60-42f6-90f7-7e881fb0913d"
      },
      "execution_count": null,
      "outputs": [
        {
          "output_type": "execute_result",
          "data": {
            "text/plain": [
              "{'gamma': 0.05913721293446661,\n",
              " 'learning_rate': 0.22197630639825713,\n",
              " 'max_depth': 3,\n",
              " 'n_estimators': 100,\n",
              " 'n_stimators': 132,\n",
              " 'subsample': 0.8087393287000286}"
            ]
          },
          "metadata": {},
          "execution_count": 47
        }
      ]
    },
    {
      "cell_type": "code",
      "source": [
        "rand_model.best_estimator_"
      ],
      "metadata": {
        "colab": {
          "base_uri": "https://localhost:8080/"
        },
        "id": "BDrQWhqxglxG",
        "outputId": "d3d135bb-0528-4dc3-f91a-93332c59ae5d"
      },
      "execution_count": null,
      "outputs": [
        {
          "output_type": "execute_result",
          "data": {
            "text/plain": [
              "LGBMRegressor(gamma=0.05913721293446661, learning_rate=0.22197630639825713,\n",
              "              max_depth=3, n_stimators=132, subsample=0.8087393287000286)"
            ]
          },
          "metadata": {},
          "execution_count": 48
        }
      ]
    },
    {
      "cell_type": "code",
      "source": [
        "#rand_model.feature_importances_"
      ],
      "metadata": {
        "id": "O6V-oOufkhvr"
      },
      "execution_count": null,
      "outputs": []
    },
    {
      "cell_type": "code",
      "source": [
        "from sklearn.metrics import mean_absolute_error"
      ],
      "metadata": {
        "id": "oaiAjAWblcM1"
      },
      "execution_count": null,
      "outputs": []
    },
    {
      "cell_type": "code",
      "source": [
        "error_rates = []\n",
        "\n",
        "for i in range(1, 92):\n",
        "  model = LGBMRegressor(n_estimators=i)\n",
        "  model.fit(X_train, y_train)\n",
        "  y_pred = model.predict(X_test)\n",
        "  error = mean_absolute_error(y_pred, y_test)\n",
        "  error_rates.append(error)  # 2 to 1"
      ],
      "metadata": {
        "id": "RED8qWNRk4U3"
      },
      "execution_count": null,
      "outputs": []
    },
    {
      "cell_type": "code",
      "source": [
        "plt.plot(range(1, 92), error_rates)  # error not decress after ~10   elbow method"
      ],
      "metadata": {
        "colab": {
          "base_uri": "https://localhost:8080/",
          "height": 282
        },
        "id": "3vWCkctvnV0O",
        "outputId": "c710c949-1aaf-4fba-f09a-349ececfb8e2"
      },
      "execution_count": null,
      "outputs": [
        {
          "output_type": "execute_result",
          "data": {
            "text/plain": [
              "[<matplotlib.lines.Line2D at 0x7f3d0ff37c10>]"
            ]
          },
          "metadata": {},
          "execution_count": 54
        },
        {
          "output_type": "display_data",
          "data": {
            "text/plain": [
              "<Figure size 432x288 with 1 Axes>"
            ],
            "image/png": "[encoded data removed]"
          },
          "metadata": {
            "needs_background": "light"
          }
        }
      ]
    },
    {
      "cell_type": "code",
      "source": [
        "print('msa:', mean_absolute_error(y_pred, y_test))"
      ],
      "metadata": {
        "colab": {
          "base_uri": "https://localhost:8080/"
        },
        "id": "GGIZwxFQFR8Z",
        "outputId": "b97e13d2-d343-4803-8dfc-b7807ca89fca"
      },
      "execution_count": null,
      "outputs": [
        {
          "output_type": "stream",
          "name": "stdout",
          "text": [
            "msa: 1.000785956884675\n"
          ]
        }
      ]
    }
  ]
}